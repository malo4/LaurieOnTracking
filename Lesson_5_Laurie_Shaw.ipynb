{
 "cells": [
  {
   "cell_type": "code",
   "execution_count": 1,
   "metadata": {},
   "outputs": [],
   "source": [
    "import Metrica_IO as mio\n",
    "import Metrica_Viz as mviz\n",
    "import Metrica_Velocities as mvel\n",
    "import matplotlib.pyplot as plt\n",
    "import numpy as np\n",
    "import pandas as pd"
   ]
  },
  {
   "cell_type": "code",
   "execution_count": 2,
   "metadata": {},
   "outputs": [
    {
     "name": "stdout",
     "output_type": "stream",
     "text": [
      "Reading team: home\n",
      "Reading team: away\n"
     ]
    }
   ],
   "source": [
    "\"\"\"\n",
    "Created on Sun Apr  19th.\n",
    "\n",
    "Script for lesson 5 of \"Friends of Tracking\" #FoT\n",
    "\n",
    "Data can also be found at: https://github.com/metrica-sports/sample-data\n",
    "\n",
    "Accompanying video tutorials can be found here: https://www.youtube.com/channel/UCUBFJYcag8j2rm_9HkrrA7w\n",
    "\n",
    "GitHub repo: https://github.com/Friends-of-Tracking-Data-FoTD/LaurieOnTracking\n",
    "@author: Laurie Shaw (@EightyFivePoint)\n",
    "\"\"\"\n",
    "\n",
    "# As did in lesson 4, first set up my initial path to data:\n",
    "\n",
    "DATADIR = r'C:\\Users\\Konstantinos\\LaurieOnTracking\\sample_metrica_data\\games'\n",
    "\n",
    "# let's look at sample match 2:\n",
    "game_id = 2\n",
    "\n",
    "# read in the event data\n",
    "events = mio.read_event_data(DATADIR,game_id)\n",
    "\n",
    "# And of course, reading TRACKING DATA\n",
    "tracking_home = mio.tracking_data(DATADIR,game_id,'Home')\n",
    "tracking_away = mio.tracking_data(DATADIR,game_id,'Away')"
   ]
  },
  {
   "cell_type": "code",
   "execution_count": 3,
   "metadata": {},
   "outputs": [],
   "source": [
    "# Convert positions from metrica units to meters \n",
    "# note change in Metrica's coordinate system since the last lesson (OK! change made in Metrica_IO.py)\n",
    "tracking_home = mio.to_metric_coordinates(tracking_home)\n",
    "tracking_away = mio.to_metric_coordinates(tracking_away)\n",
    "events = mio.to_metric_coordinates(events)"
   ]
  },
  {
   "cell_type": "code",
   "execution_count": 4,
   "metadata": {},
   "outputs": [],
   "source": [
    "# reverse direction of play in the second half so that home team is always attacking from right->left\n",
    "# (no change need in Metrica_IO.py, function was already set up in this way)\n",
    "tracking_home,tracking_away,events = mio.to_single_playing_direction(tracking_home,tracking_away,events)"
   ]
  },
  {
   "cell_type": "code",
   "execution_count": 5,
   "metadata": {},
   "outputs": [
    {
     "name": "stdout",
     "output_type": "stream",
     "text": [
      "Generating movie...done\n"
     ]
    }
   ],
   "source": [
    "# Making a movie of the second home team goal\n",
    "\n",
    "#first, where to save the movie (same DIR set up before)\n",
    "PLOTDIR = DATADIR\n",
    "\n",
    "mviz.save_match_clip(tracking_home.iloc[73600:73600+500],tracking_away.iloc[73600:73600+500],\n",
    "                     PLOTDIR,fname='home_goal_2',include_player_velocities=False)\n",
    "\n",
    "# And when movie is done... look within the games folder (my DIR)"
   ]
  },
  {
   "cell_type": "code",
   "execution_count": null,
   "metadata": {},
   "outputs": [],
   "source": []
  }
 ],
 "metadata": {
  "kernelspec": {
   "display_name": "Python 3",
   "language": "python",
   "name": "python3"
  },
  "language_info": {
   "codemirror_mode": {
    "name": "ipython",
    "version": 3
   },
   "file_extension": ".py",
   "mimetype": "text/x-python",
   "name": "python",
   "nbconvert_exporter": "python",
   "pygments_lexer": "ipython3",
   "version": "3.6.4"
  }
 },
 "nbformat": 4,
 "nbformat_minor": 2
}
